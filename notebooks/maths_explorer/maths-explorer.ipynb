{
 "cells": [
  {
   "cell_type": "markdown",
   "id": "2f3f2017-2f81-416c-adf1-25e4b353d285",
   "metadata": {
    "panel-layout": {
     "height": 51.802085876464844,
     "visible": true,
     "width": 100
    }
   },
   "source": [
    "`# Math Explorer: Linear Algebra & Optimization from Scratch`"
   ]
  },
  {
   "cell_type": "markdown",
   "id": "f5324e75-b7a8-46f5-ad71-e905dd390332",
   "metadata": {},
   "source": [
    "`## Introd.`"
   ]
  },
  {
   "cell_type": "markdown",
   "id": "882e015a-e1f4-41b1-bc4e-8da5193cd5f8",
   "metadata": {},
   "source": [
    "\n",
    "It is a **Math Explorer Notebook**, a fully interactive, from-scratch journey into the **linear algebra** and **optimization**.Here we\n",
    "- Build matrix operations from scratch  \n",
    "- Compute eigenvalues, SVD, and use them in a **dumb movie recommender**  \n",
    "- Implement **gradient descent variants** and train a tiny neural net  {Vanilla , Momentum, Adam}\n",
    "- Visualize everything interactively with sliders and animations  \n",
    "**just pure Python + NumPy + curiosity.**"
   ]
  },
  {
   "cell_type": "markdown",
   "id": "873ecafd-716a-45f4-bd2b-8e548dd5cbba",
   "metadata": {},
   "source": [
    "`## Section 1: Linear Algebra Toolkit (From Scratch)`"
   ]
  },
  {
   "cell_type": "markdown",
   "id": "57d6d3ba-10dc-497d-bae1-3da3d2ca6b75",
   "metadata": {},
   "source": [
    "`### 1.1 Basic Matrix Operations`\r\n",
    "\r\n",
    "We'll implement:\r\n",
    "- Matrix multiplication\r\n",
    "- Transpose\r\n",
    "- Determinant (recursive)\r\n",
    "- Inverse via **Gaussian elimination with partial pivoting**"
   ]
  },
  {
   "cell_type": "code",
   "execution_count": 34,
   "id": "f097d134-bd90-4bd5-959a-0a5baab955ca",
   "metadata": {},
   "outputs": [],
   "source": [
    "import numpy as np\n",
    "from typing import List , Tuple\n",
    "import matplotlib.pyplot as plt\n",
    "from matplotlib.patches import FancyArrowPatch\n",
    "from mpl_toolkits.mplot3d import Axes3D\n",
    "import plotly.graph_objects as go\n",
    "import ipywidgets as widgets\n",
    "from ipywidgets import interact, interactive\n",
    "from IPython.display import display\n",
    "import warnings\n",
    "import pandas as pd\n",
    "warnings.filterwarnings('ignore')\n",
    "\n",
    "np.random.seed(42)"
   ]
  },
  {
   "cell_type": "code",
   "execution_count": 35,
   "id": "5143f7db-ab6c-4b4a-99c6-9f71e768c7bf",
   "metadata": {},
   "outputs": [],
   "source": [
    "def matmul( A:np.ndarray,B:np.ndarray)-> np.ndarray:\n",
    "    \"\"\"\n",
    "    Matrix mult -> \n",
    "    A:(m,n) , b:(n,p) -> results:(m,p)\n",
    "    \"\"\"\n",
    "    if A.shape[1]!=B.shape[0]:\n",
    "        raise ValueError(f\"Can't multiply,{A.shape[1]}!={B.shape[0]} \")\n",
    "    m,n =A.shape\n",
    "    p=B.shape[1]\n",
    "    C=np.zeros((m,p))\n",
    "    for i in range(m):\n",
    "        for j in range(p):\n",
    "            for k in range(n):\n",
    "                C[i,j]+=A[i,k]*B[k,j]\n",
    "    return C\n",
    "\n",
    "def transpose(A:np.ndarray)-> np.ndarray:\n",
    "    \"\"\"A name ki matrix ko seedha krdo , ya ulta krdo...\"\"\"\n",
    "    return np.array([[A[j,i] for j in range(A.shape[0])]for i in range(A.shape[1])])\n",
    "\n",
    "def minor(A:np.ndarray, i:int, j:int)-> np.ndarray:\n",
    "    \"\"\"Remove I row and J col and return rest of the matrix\"\"\"\n",
    "    return np.delete(np.delete(A, i, axis=0), j, axis=1)\n",
    "\n",
    "def det(A:np.ndarray) -> float:\n",
    "    \"\"\"\n",
    "    Compute det using cofactor expansion.\n",
    "    \"\"\"\n",
    "    n=A.shape[0]\n",
    "    if n==1:\n",
    "        return A[0,0]\n",
    "    if n==2:\n",
    "        return A[0,0]*A[1,1] - A[0,1]*A[1,0]\n",
    "    \n",
    "    deter=0.0\n",
    "    for j in range(n):\n",
    "        cof = A[0, j] * det(minor(A, 0, j))        \n",
    "        deter+=(-1)**j *cof\n",
    "    return deter\n",
    "    \n",
    "def gaussian_elimination_inverse(A: np.ndarray) -> np.ndarray:\n",
    "    \"\"\"\n",
    "    Compute inverse using Gaussian elimination with partial pivoting.\n",
    "    Returns inverse of A (n x n).\n",
    "    \"\"\"\n",
    "    n = A.shape[0]\n",
    "    if A.shape[0] != A.shape[1]:\n",
    "        raise ValueError(\"Matrix must be square\")\n",
    "    \n",
    "    # Create augmented matrix [A | I]\n",
    "    # aug = np.hstack([A.copy(), np.eye(n)])\n",
    "    aug = np.hstack([A.copy().astype(float), np.eye(n)])\n",
    "    # Forward elimination with partial pivoting\n",
    "    for i in range(n):\n",
    "        # Find pivot\n",
    "        max_row = i\n",
    "        for k in range(i+1, n):\n",
    "            if abs(aug[k, i]) > abs(aug[max_row, i]):\n",
    "                max_row = k\n",
    "        # Swap rows\n",
    "        aug[[i, max_row]] = aug[[max_row, i]]\n",
    "        \n",
    "        if abs(aug[i, i]) < 1e-10:\n",
    "            raise ValueError(\"Matrix is singular\")\n",
    "        \n",
    "        # Eliminate below\n",
    "        for k in range(i+1, n):\n",
    "            factor = aug[k, i] / aug[i, i]\n",
    "            aug[k, i:] -= factor * aug[i, i:]\n",
    "    \n",
    "    # Back substitution\n",
    "    for i in range(n-1, -1, -1):\n",
    "        aug[i, i:] /= aug[i, i]\n",
    "        for k in range(i-1, -1, -1):\n",
    "            factor = aug[k, i]\n",
    "            aug[k, i:] -= factor * aug[i, i:]\n",
    "    \n",
    "    return aug[:, n:] "
   ]
  },
  {
   "cell_type": "code",
   "execution_count": 36,
   "id": "031cca24-1600-474e-a779-06431ef4e31e",
   "metadata": {},
   "outputs": [
    {
     "name": "stdout",
     "output_type": "stream",
     "text": [
      "py3.10 mult:\n",
      " [[ 40.  46.  32.]\n",
      " [ 78.  90.  66.]\n",
      " [126. 146. 114.]] \n",
      "\n",
      "Mult:\n",
      " [[ 40.  46.  32.]\n",
      " [ 78.  90.  66.]\n",
      " [126. 146. 114.]] \n",
      "\n",
      "Our Det: 8.0 | Numpy Det: 7.999999999999998 \n",
      "\n",
      "Inverse of A: \n",
      "[[-2.5   1.75 -0.25]\n",
      " [ 2.5  -2.    0.5 ]\n",
      " [-0.5   0.75 -0.25]] \n",
      "\n",
      "Check if inv or not: \n",
      " [[ 1.  0.  0.]\n",
      " [-0.  1.  0.]\n",
      " [-0.  0.  1.]]\n"
     ]
    }
   ],
   "source": [
    "A = np.array([[1, 2, 3], [3, 4, 5], [7, 8,5]], dtype=float)\n",
    "B = np.array([[5, 6,7], [7, 8,5], [7, 8,5]], dtype=float)\n",
    "print(\"py3.10 mult:\\n\",A@B,\"\\n\")\n",
    "print(\"Mult:\\n\",matmul(A, B),\"\\n\")\n",
    "print(f\"Our Det: {det(A)} | Numpy Det: {np.linalg.det(A)} \\n\")\n",
    "Ainv = gaussian_elimination_inverse(A)\n",
    "print(f\"Inverse of A: \\n{Ainv} \\n\")\n",
    "print(\"Check if inv or not: \\n\",np.round(A@Ainv, decimals=10))"
   ]
  },
  {
   "cell_type": "markdown",
   "id": "66165d11-41d5-414a-9919-240d3a3412ed",
   "metadata": {},
   "source": [
    "---\n",
    "`### 1.2 Eigenvalues & Eigenvectors via Power Iteration + Deflation`\n",
    "$$ A\\mathbf{X}  = \\lambda_1 \\mathbf{X}$$\n",
    "\n",
    "$$ Here\\ Eigenval: \\lambda_1 \\ Eigenvector:\\mathbf{X}$$\n",
    "`[Hotelling's deflation]` $$A_{new} = A - \\lambda_1 \n",
    "\\mathbf{X} \\mathbf{X}^T$$\n",
    "```python\n",
    "# Its like you want to find second tallest guy from a class, you will ask the tallest guy to it to see.\n"
   ]
  },
  {
   "cell_type": "code",
   "execution_count": 38,
   "id": "c72672a7-711a-4ebd-922f-e3e8ab0f49b4",
   "metadata": {},
   "outputs": [
    {
     "name": "stdout",
     "output_type": "stream",
     "text": [
      "Eigenvalues (scratch): [4.618033988749896, 2.3819660112501055]\n",
      "Eigenvectors (scratch): [array([0.85065081, 0.52573111]), array([-0.52573111,  0.85065081])]\n",
      "NumPy eigenvalues: [4.61803399 2.38196601]\n"
     ]
    }
   ],
   "source": [
    "def power_iter(A: np.ndarray, num_iter: int = 100) -> Tuple[float, np.ndarray]:\n",
    "    \"\"\"\n",
    "    Power iteration to find dominant eigenval and eigenvect.\n",
    "    \"\"\"\n",
    "    n = A.shape[0]\n",
    "    v = np.random.rand(n)\n",
    "    v = v / np.linalg.norm(v)\n",
    "    \n",
    "    for _ in range(num_iter):\n",
    "        Av = matmul(A, v.reshape(-1, 1)).flatten()\n",
    "        v = Av / np.linalg.norm(Av)\n",
    "    \n",
    "    eigenvalue = np.dot(v, matmul(A, v.reshape(-1, 1)).flatten())\n",
    "    return eigenvalue, v\n",
    "\n",
    "#power_iter(A = np.array([[1,1,23],[2,34,2],[3,3,3]]))\n",
    "\n",
    "\n",
    "def deflate(A: np.ndarray, eigenvalue: float, eigenvector: np.ndarray) -> np.ndarray:\n",
    "    \"\"\"\n",
    "    Deflate matrix by removing one eigenpair:\n",
    "    \"\"\"\n",
    "    eigenvector = eigenvector.reshape(-1, 1)\n",
    "    return A - eigenvalue * np.dot(eigenvector, eigenvector.T)\n",
    "    \n",
    "def eigen_decomposition_scratch(A:np.ndarray,k:int=None) -> Tuple[List[float],List[np.ndarray]]:\n",
    "    \"\"\"\n",
    "    Finding top k largest eigenvalues/vectors using power iter and deflation\n",
    "    \"\"\"\n",
    "    if k is None:\n",
    "     k=A.shape[0]\n",
    "    eigenvalues = []\n",
    "    eigenvectors= []\n",
    "    A_deflated = A.copy()\n",
    "    for _ in range(k):\n",
    "     eigval,eigvec = power_iter(A_deflated)\n",
    "     eigenvalues.append(eigval)\n",
    "     eigenvectors.append(eigvec)\n",
    "     A_deflated= deflate(A_deflated , eigval,eigvec)\n",
    "\n",
    "    return eigenvalues, eigenvectors\n",
    "\n",
    "A_sym = np.array([[4, 1], [1, 3]], dtype=float)\n",
    "eigvals, eigvecs = eigen_decomposition_scratch(A_sym, k=2)\n",
    "\n",
    "print(\"Eigenvalues (scratch):\", eigvals)\n",
    "print(\"Eigenvectors (scratch):\", eigvecs)\n",
    "print(\"NumPy eigenvalues:\", np.linalg.eigvals(A_sym))"
   ]
  },
  {
   "cell_type": "markdown",
   "id": "980bfb79-e868-47b3-b7f9-388c4059ccf8",
   "metadata": {},
   "source": [
    "---\n",
    "` 1.3 SVD from scratch (Iterative Golub-reinsch Style)`\n",
    "\r\n",
    "We'll implement a **simplified iterative SVD** using repeated power iteration on $A^TA$ and $AA^T$."
   ]
  },
  {
   "cell_type": "code",
   "execution_count": 40,
   "id": "02d53ff3-92e4-4f22-87c3-ad441ef72836",
   "metadata": {},
   "outputs": [
    {
     "name": "stdout",
     "output_type": "stream",
     "text": [
      "U:\n",
      " [[ 0.41283322  0.88944207]\n",
      " [ 0.77518518 -0.23007409]\n",
      " [ 0.47818058 -0.39491609]]\n",
      "S: [7.51931844 0.67812257]\n",
      "Vt:\n",
      " [[ 0.49136766  0.87095225]\n",
      " [-0.87095225  0.49136766]]\n"
     ]
    }
   ],
   "source": [
    "def svd_scratch(A:np.ndarray,k:int=None)-> Tuple[np.ndarray,np.ndarray, np.ndarray]:\n",
    "    \"\"\"\n",
    "    Compute SVD using iterative power method on A.T @ A and A@A.T\n",
    "    \"\"\"\n",
    "    if k is None:\n",
    "        k = min(A.shape)\n",
    "\n",
    "    m,n = A.shape\n",
    "    k=min(m,n,k)\n",
    "\n",
    "    ATA=matmul(A.T,A)\n",
    "    AAT=matmul(A,A.T)\n",
    "\n",
    "    eigenvalues_r,eigenvectors_r = eigen_decomposition_scratch(ATA,k)\n",
    "    Vt = np.array(eigenvectors_r).T\n",
    "\n",
    "    # find left singular vect ( from A@V)\n",
    "    \n",
    "    U=[]\n",
    "    S=[]\n",
    "    for i in range(k):\n",
    "        Av = matmul(A, Vt[:, i].reshape(-1, 1)).flatten()\n",
    "        normAv = np.linalg.norm(Av)\n",
    "        if normAv > 1e-10:\n",
    "            u=Av/normAv\n",
    "            S.append(normAv)\n",
    "        else:\n",
    "            u=np.zeroes(m)\n",
    "            S.append(0.0)\n",
    "        U.append(u)\n",
    "\n",
    "    U =np.array(U).T  # m x k\n",
    "    S = np.array(S)\n",
    "\n",
    "    idx = np.argsort(S)[::-1]\n",
    "    U = U[:,idx]\n",
    "    S = S[idx]\n",
    "    Vt = Vt[:,idx]\n",
    "    return U,S,Vt.T\n",
    "\n",
    "A_test =  np.array([[1,3],[3,5],[2,3]],dtype = float)\n",
    "U,S,Vt = svd_scratch(A_test,k=2)\n",
    "\n",
    "print(\"U:\\n\", U)\n",
    "print(\"S:\", S)\n",
    "print(\"Vt:\\n\", Vt)"
   ]
  },
  {
   "cell_type": "code",
   "execution_count": 41,
   "id": "65eaa664-d39b-4920-89b0-3c7479714a2c",
   "metadata": {},
   "outputs": [
    {
     "name": "stdout",
     "output_type": "stream",
     "text": [
      "Reconstructed:\n",
      " [[1. 3.]\n",
      " [3. 5.]\n",
      " [2. 3.]]\n"
     ]
    }
   ],
   "source": [
    "print(\"Reconstructed:\\n\", U @ np.diag(S) @ Vt)"
   ]
  },
  {
   "cell_type": "code",
   "execution_count": 42,
   "id": "a47c5b91-7f1d-427a-9a0e-7dde802f6a53",
   "metadata": {},
   "outputs": [
    {
     "name": "stdout",
     "output_type": "stream",
     "text": [
      "\n",
      "NumPy S: [7.51931844 0.67812257]\n",
      "Error in singular values: 2.7217452008024307e-15\n"
     ]
    }
   ],
   "source": [
    "U_np, S_np, Vt_np = np.linalg.svd(A_test, full_matrices=False)\n",
    "print(\"\\nNumPy S:\", S_np)\n",
    "print(\"Error in singular values:\", np.linalg.norm(S - S_np))"
   ]
  },
  {
   "cell_type": "markdown",
   "id": "bac958cf-6165-4fd0-add6-f68ccecb0d6c",
   "metadata": {},
   "source": [
    "---\n",
    "`### 1.4 Movie Recommender System using Low-Rank SVD`\r\n",
    "\r\n",
    "We'll use a **5x5 user-movie rating matrix** with missing values (NaN), fill them using **k=2 SVD approximation**."
   ]
  },
  {
   "cell_type": "code",
   "execution_count": 44,
   "id": "bc78e82f-96f9-4145-88d0-fb9834a9160b",
   "metadata": {},
   "outputs": [
    {
     "name": "stdout",
     "output_type": "stream",
     "text": [
      "Original Ratings (with NaN):\n",
      "          Rockstar     Major  Shershah  Amaran  Gangs of Wassepur\n",
      "Abrar     5.000000  4.000000       4.0     4.5           3.000000\n",
      "BaburGay  3.333333  5.000000       4.0     4.5           2.666667\n",
      "Chandur   1.000000  3.666667       4.0     5.0           4.000000\n",
      "Daud      3.333333  2.000000       3.0     4.0           2.666667\n",
      "Ebakar    4.000000  3.666667       5.0     4.5           1.000000\n"
     ]
    }
   ],
   "source": [
    "# Hardcoded 5 users x 5 movies rating matrix (1-5 scale, NaN = missing)\n",
    "ratings = np.array([\n",
    "    [5, 4, np.nan, np.nan, 3],\n",
    "    [np.nan, 5, 4, np.nan, np.nan],\n",
    "    [1, np.nan, np.nan, 5, 4],\n",
    "    [np.nan, 2, 3, 4, np.nan],\n",
    "    [4, np.nan, 5, np.nan, 1]\n",
    "], dtype=float)\n",
    "\n",
    "user_names = [\"Abrar\", \"BaburGay\", \"Chandur\", \"Daud\", \"Ebakar\"]\n",
    "movie_names = [\"Rockstar\", \"Major\", \"Shershah\", \"Amaran\", \"Gangs of Wassepur\"]\n",
    "\n",
    "# Fill NaN with column mean (initial guess)\n",
    "mean_ratings = np.nanmean(ratings, axis=0)\n",
    "ratings_filled = ratings.copy()\n",
    "for i in range(ratings.shape[1]):\n",
    "    col = ratings[:, i]\n",
    "    col[np.isnan(col)] = mean_ratings[i]\n",
    "ratings_filled = np.nan_to_num(ratings, nan=0)  # fallback\n",
    "\n",
    "print(\"Original Ratings (with NaN):\")\n",
    "print(pd.DataFrame(ratings, index=user_names, columns=movie_names))\n",
    "ratings = np.round(ratings)\n"
   ]
  },
  {
   "cell_type": "code",
   "execution_count": 45,
   "id": "241f4662-1c72-46b8-b186-d539f449057e",
   "metadata": {},
   "outputs": [
    {
     "name": "stdout",
     "output_type": "stream",
     "text": [
      "\n",
      "Reconstructed (k=2):\n",
      "          Rockstar  Major  Shershah  Amaran  Gangs of Wassepur\n",
      "Abrar         4.53   4.06      4.50    4.75               2.32\n",
      "BaburGay      3.49   4.00      4.28    4.82               2.91\n",
      "Chandur       1.12   3.81      3.74    4.93               4.15\n",
      "Daud          2.86   3.02      3.27    3.62               2.06\n",
      "Ebakar        4.61   3.70      4.18    4.26               1.82\n",
      "\n",
      "Predicted Ratings:\n",
      "          Rockstar  Major  Shershah  Amaran  Gangs of Wassepur\n",
      "Abrar          5.0    4.0       4.0     4.0                3.0\n",
      "BaburGay       3.0    5.0       4.0     4.0                3.0\n",
      "Chandur        1.0    4.0       4.0     5.0                4.0\n",
      "Daud           3.0    2.0       3.0     4.0                3.0\n",
      "Ebakar         4.0    4.0       5.0     4.0                1.0\n"
     ]
    }
   ],
   "source": [
    "# Perform SVD with k=5\n",
    "U, S, Vt = svd_scratch(ratings_filled, k=2)\n",
    "reconstructed = U @ np.diag(S) @ Vt\n",
    "print(\"\\nReconstructed (k=2):\")\n",
    "print(pd.DataFrame(reconstructed.round(2), index=user_names, columns=movie_names))\n",
    "\n",
    "# Fill missing ratings\n",
    "predicted = ratings.copy()\n",
    "predicted[np.isnan(ratings)] = reconstructed[np.isnan(ratings)]\n",
    "\n",
    "print(\"\\nPredicted Ratings:\")\n",
    "print(pd.DataFrame(predicted.round(2), index=user_names, columns=movie_names))"
   ]
  },
  {
   "cell_type": "code",
   "execution_count": 46,
   "id": "2c7b469c-de20-42af-8eba-8308324f5c4f",
   "metadata": {},
   "outputs": [
    {
     "data": {
      "image/png": "[encoded data removed]",
      "text/plain": [
       "<Figure size 1200x500 with 2 Axes>"
      ]
     },
     "metadata": {},
     "output_type": "display_data"
    }
   ],
   "source": [
    "# Visualize latent factors\n",
    "fig, ax = plt.subplots(1, 2, figsize=(12, 5))\n",
    "\n",
    "# User latent factors\n",
    "ax[0].scatter(U[:, 0], U[:, 1])\n",
    "for i, name in enumerate(user_names):\n",
    "    ax[0].text(U[i, 0], U[i, 1], name, fontsize=12)\n",
    "ax[0].set_xlabel(\"Latent Factor 1\")\n",
    "ax[0].set_ylabel(\"Latent Factor 2\")\n",
    "ax[0].set_title(\"Users in Latent Space\")\n",
    "ax[0].grid(True)\n",
    "\n",
    "# Movie latent factors\n",
    "ax[1].scatter(Vt[0, :], Vt[1, :])\n",
    "for i, name in enumerate(movie_names):\n",
    "    ax[1].text(Vt[0, i], Vt[1, i], name, fontsize=12)\n",
    "ax[1].set_xlabel(\"Latent Factor 1\")\n",
    "ax[1].set_ylabel(\"Latent Factor 2\")\n",
    "ax[1].set_title(\"Movies in Latent Space\")\n",
    "ax[1].grid(True)\n",
    "\n",
    "plt.tight_layout()\n",
    "plt.show()"
   ]
  },
  {
   "cell_type": "code",
   "execution_count": 90,
   "id": "3b16e693-b9c8-49ac-b843-96942215ebad",
   "metadata": {},
   "outputs": [],
   "source": [
    "class GradientDescent:\n",
    "    def __init__(self , lr :float=0.01, method: str='vanilla'):\n",
    "        self.lr = lr\n",
    "        self.method = method\n",
    "        self.velocity = None\n",
    "        self.m = None\n",
    "        self.v = None\n",
    "        self.t = 0\n",
    "\n",
    "    def step(self,grad:np.ndarray)-> np.ndarray:\n",
    "        self.t += 1\n",
    "        grad = np.array(grad)\n",
    "\n",
    "        if self.method=='vanilla':\n",
    "            return -self.lr*grad\n",
    "        elif self.method == 'momentum':\n",
    "            beta =0.9\n",
    "            if self.velocity is None:\n",
    "                self.velocity = np.zeros_like(grad)\n",
    "            self.velocity = beta * self.velocity + (1-beta) * grad\n",
    "            return -self.lr * self.velocity\n",
    "        elif self.method =='adam':\n",
    "            beta1,beta2=0.9,0.999\n",
    "            eps = 1e-8\n",
    "            if self.m is None:\n",
    "                self.m = np.zeros_like(grad)\n",
    "                self.v = np.zeros_like(grad)\n",
    "            self.m = beta1 * self.m + (1 - beta1) * grad\n",
    "            self.v = beta2 * self.v + (1 - beta2) * (grad ** 2)\n",
    "            m_hat = self.m / (1 - beta1 ** self.t)\n",
    "            v_hat = self.v / (1 - beta2 ** self.t)\n",
    "            return -self.lr * m_hat / (np.sqrt(v_hat) + eps)"
   ]
  },
  {
   "cell_type": "markdown",
   "id": "eab79948-7dce-47b2-a9e5-81921999e7ce",
   "metadata": {},
   "source": [
    "`### 2.2 Optimize: $ f(x,y) = x^2 + y^2 + \\sin(xy) $`"
   ]
  },
  {
   "cell_type": "code",
   "execution_count": 93,
   "id": "2120e7b7-c264-4b6c-8cdd-16c0bf18ab5d",
   "metadata": {},
   "outputs": [],
   "source": [
    "def f(x, y):\n",
    "    return x**2 + y**2 + np.sin(x*y)\n",
    "\n",
    "def grad_f(x, y):\n",
    "    df_dx = 2*x + y*np.cos(x*y)\n",
    "    df_dy = 2*y + x*np.cos(x*y)\n",
    "    return np.array([df_dx, df_dy])"
   ]
  },
  {
   "cell_type": "code",
   "execution_count": 95,
   "id": "d685450c-6812-4a21-b90b-1892f31762dc",
   "metadata": {},
   "outputs": [
    {
     "data": {
      "application/vnd.jupyter.widget-view+json": {
       "model_id": "b60059b26ab54f4fb79942c2520f8afe",
       "version_major": 2,
       "version_minor": 0
      },
      "text/plain": [
       "interactive(children=(FloatSlider(value=0.05, description='lr', max=0.2, min=0.01, step=0.01), FloatSlider(val…"
      ]
     },
     "metadata": {},
     "output_type": "display_data"
    }
   ],
   "source": [
    "# Interactive optimization\n",
    "def plot_descent(lr=0.05, momentum=0.0, iterations=50, method='vanilla'):\n",
    "    if method == 'momentum':\n",
    "        optimizer = GradientDescent(lr=lr, method='momentum')\n",
    "    elif method == 'adam':\n",
    "        optimizer = GradientDescent(lr=lr, method='adam')\n",
    "    else:\n",
    "        optimizer = GradientDescent(lr=lr, method='vanilla')\n",
    "    \n",
    "    x, y = -2.0, 2.0\n",
    "    path = [(x, y)]\n",
    "    \n",
    "    for _ in range(iterations):\n",
    "        grad = grad_f(x, y)\n",
    "        update = optimizer.step(grad)\n",
    "        x += update[0]\n",
    "        y += update[1]\n",
    "        path.append((x, y))\n",
    "    \n",
    "    path = np.array(path)\n",
    "    \n",
    "    # 3D surface\n",
    "    x_grid = np.linspace(-3, 3, 100)\n",
    "    y_grid = np.linspace(-3, 3, 100)\n",
    "    X, Y = np.meshgrid(x_grid, y_grid)\n",
    "    Z = f(X, Y)\n",
    "    \n",
    "    fig = go.Figure(data=[go.Surface(x=x_grid, y=y_grid, z=Z, opacity=0.7, colorscale='Viridis')])\n",
    "    fig.add_trace(go.Scatter3d(x=path[:,0], y=path[:,1], z=f(path[:,0], path[:,1]),\n",
    "                               mode='lines+markers', line=dict(color='red', width=4)))\n",
    "    fig.update_layout(title=f\"{method.capitalize()} Descent (lr={lr})\", scene=dict(xaxis_title='x', yaxis_title='y', zaxis_title='f(x,y)'))\n",
    "    fig.show()\n",
    "\n",
    "interact(plot_descent, lr=(0.01, 0.2, 0.01), momentum=(0.0, 0.99, 0.05), iterations=(10, 100, 5),\n",
    "         method=['vanilla', 'momentum', 'adam']);"
   ]
  },
  {
   "cell_type": "markdown",
   "id": "f13848d3-a186-436c-ae29-048f7372b03d",
   "metadata": {},
   "source": [
    "\n",
    "`### 2.3 Tiny Neural Network + Backpropagation`"
   ]
  },
  {
   "cell_type": "code",
   "execution_count": 88,
   "id": "ca6a1e8d-91db-4076-970d-6efb92e7ef21",
   "metadata": {},
   "outputs": [
    {
     "name": "stdout",
     "output_type": "stream",
     "text": [
      "Final predictions:\n",
      "[[0.  ]\n",
      " [1.  ]\n",
      " [1.  ]\n",
      " [0.01]]\n"
     ]
    },
    {
     "data": {
      "image/png": "[encoded data removed]",
      "text/plain": [
       "<Figure size 640x480 with 1 Axes>"
      ]
     },
     "metadata": {},
     "output_type": "display_data"
    }
   ],
   "source": [
    "class TinyNet:\n",
    "    def __init__(self):\n",
    "        # 2 inputs → 3 hidden → 1 output\n",
    "        self.W1 = np.random.randn(2, 3) * 0.5\n",
    "        self.b1 = np.zeros(3)\n",
    "        self.W2 = np.random.randn(3, 1) * 0.5\n",
    "        self.b2 = 0.0\n",
    "        \n",
    "    def sigmoid(self, z):\n",
    "        return 1 / (1 + np.exp(-z))\n",
    "    \n",
    "    def forward(self, X):\n",
    "        self.z1 = X @ self.W1 + self.b1\n",
    "        self.a1 = self.sigmoid(self.z1)\n",
    "        self.z2 = self.a1 @ self.W2 + self.b2\n",
    "        self.a2 = self.sigmoid(self.z2)\n",
    "        return self.a2\n",
    "    \n",
    "    def backward(self, X, y, output):\n",
    "        m = X.shape[0]\n",
    "        \n",
    "        dZ2 = output - y\n",
    "        dW2 = self.a1.T @ dZ2 / m\n",
    "        db2 = np.sum(dZ2, axis=0) / m\n",
    "        \n",
    "        dA1 = dZ2 @ self.W2.T\n",
    "        dZ1 = dA1 * self.a1 * (1 - self.a1)\n",
    "        dW1 = X.T @ dZ1 / m\n",
    "        db1 = np.sum(dZ1, axis=0) / m\n",
    "        \n",
    "        return dW1, db1, dW2, db2\n",
    "\n",
    "# XOR-like data\n",
    "X = np.array([[0,0], [0,1], [1,0], [1,1]])\n",
    "y = np.array([[0], [1], [1], [0]])\n",
    "\n",
    "net = TinyNet()\n",
    "losses = []\n",
    "\n",
    "for epoch in range(1000):\n",
    "    output = net.forward(X)\n",
    "    loss = np.mean((output - y)**2)\n",
    "    losses.append(loss)\n",
    "    \n",
    "    dW1, db1, dW2, db2 = net.backward(X, y, output)\n",
    "    \n",
    "    lr = 3.0\n",
    "    net.W1 -= lr * dW1\n",
    "    net.b1 -= lr * db1\n",
    "    net.W2 -= lr * dW2\n",
    "    net.b2 -= lr * db2\n",
    "\n",
    "print(\"Final predictions:\")\n",
    "print(net.forward(X).round(2))\n",
    "plt.plot(losses)\n",
    "plt.title(\"Training Loss\")\n",
    "plt.show()"
   ]
  },
  {
   "cell_type": "markdown",
   "id": "57c46ad4-6cd9-469d-be90-15465b4c00d5",
   "metadata": {},
   "source": [
    "---\n",
    "`## Section 3: Interactive Math Explorer`"
   ]
  },
  {
   "cell_type": "code",
   "execution_count": 54,
   "id": "62f97ebb-872d-4cf7-ad52-2832b7d73bfb",
   "metadata": {},
   "outputs": [
    {
     "data": {
      "application/vnd.jupyter.widget-view+json": {
       "model_id": "243c2708c3434c558d950b5799b815d0",
       "version_major": 2,
       "version_minor": 0
      },
      "text/plain": [
       "interactive(children=(FloatSlider(value=2.0, description='a', max=3.0, min=-3.0), FloatSlider(value=1.0, descr…"
      ]
     },
     "metadata": {},
     "output_type": "display_data"
    }
   ],
   "source": [
    "# Eigen Explorer: 2x2 matrix → animated eigenvectors\n",
    "def eigen_explorer(a=2.0, b=1.0, c=1.0, d=2.0):\n",
    "    A = np.array([[a, b], [c, d]])\n",
    "    eigvals, eigvecs = np.linalg.eig(A)\n",
    "    \n",
    "    fig, ax = plt.subplots(figsize=(6,6))\n",
    "    circle = plt.Circle((0,0), 1, fill=False, color='gray', ls='--')\n",
    "    ax.add_patch(circle)\n",
    "    \n",
    "    for i in range(2):\n",
    "        vec = eigvecs[:, i]\n",
    "        vec = vec / np.linalg.norm(vec)\n",
    "        ax.arrow(0, 0, vec[0], vec[1], head_width=0.1, color=['red','blue'][i], label=f'λ={eigvals[i]:.2f}')\n",
    "    \n",
    "    ax.set_xlim(-1.5, 1.5)\n",
    "    ax.set_ylim(-1.5, 1.5)\n",
    "    ax.set_aspect('equal')\n",
    "    ax.grid(True)\n",
    "    ax.legend()\n",
    "    ax.set_title(\"Eigenvectors on Unit Circle\")\n",
    "    plt.show()\n",
    "\n",
    "interact(eigen_explorer, a=(-3,3,0.1), b=(-3,3,0.1), c=(-3,3,0.1), d=(-3,3,0.1));"
   ]
  },
  {
   "cell_type": "code",
   "execution_count": 55,
   "id": "104027dd-b197-4a72-a4ab-2f49644ca8dd",
   "metadata": {},
   "outputs": [
    {
     "data": {
      "application/vnd.jupyter.widget-view+json": {
       "model_id": "8554343881d34c74900a206155965e2c",
       "version_major": 2,
       "version_minor": 0
      },
      "text/plain": [
       "interactive(children=(IntSlider(value=1, description='n', max=50, min=1), IntSlider(value=1000, description='t…"
      ]
     },
     "metadata": {},
     "output_type": "display_data"
    }
   ],
   "source": [
    "# Central Limit Theorem\n",
    "def clt_demo(n=1, trials=1000):\n",
    "    samples = np.sum(np.random.rand(trials, n) < 0.5, axis=1)  # coin flips\n",
    "    plt.hist(samples, bins=range(n+2), density=True, alpha=0.7)\n",
    "    plt.title(f\"CLT: {n} coin flips, {trials} trials\")\n",
    "    plt.show()\n",
    "\n",
    "interact(clt_demo, n=(1, 50, 1), trials=(100, 10000, 100));"
   ]
  },
  {
   "cell_type": "markdown",
   "id": "6f31a2ec-42ce-4d50-bfdd-64cb1de85bf0",
   "metadata": {},
   "source": [
    "`## How Close Are We to NumPy?`\r\n",
    "\r\n",
    "Let’s compare our SVD with `np.linalg.svd`:"
   ]
  },
  {
   "cell_type": "code",
   "execution_count": 30,
   "id": "3f8fb910-582b-4f55-9123-30d7b79c4315",
   "metadata": {},
   "outputs": [
    {
     "name": "stdout",
     "output_type": "stream",
     "text": [
      "Singular values (ours): [2.820788 1.657743 1.298653]\n",
      "Singular values (NumPy): [2.820788 1.657743 1.298653]\n",
      "Max difference: 1.3322676295501878e-15\n",
      "Reconstruction error: 1.6870263843953148e-15\n"
     ]
    }
   ],
   "source": [
    "A = np.random.randn(5, 4)\n",
    "U1, S1, Vt1 = svd_scratch(A, k=3)\n",
    "U2, S2, Vt2 = np.linalg.svd(A, full_matrices=False)\n",
    "\n",
    "# Truncate NumPy to k=3\n",
    "U2 = U2[:, :3]\n",
    "S2 = S2[:3]\n",
    "Vt2 = Vt2[:3, :]\n",
    "\n",
    "recon1 = U1 @ np.diag(S1) @ Vt1\n",
    "recon2 = U2 @ np.diag(S2) @ Vt2\n",
    "\n",
    "print(\"Singular values (ours):\", S1.round(6))\n",
    "print(\"Singular values (NumPy):\", S2.round(6))\n",
    "print(\"Max difference:\", np.max(np.abs(S1 - S2)))\n",
    "print(\"Reconstruction error:\", np.linalg.norm(recon1 - recon2))"
   ]
  },
  {
   "cell_type": "code",
   "execution_count": null,
   "id": "b41bf0fa-3552-47f6-b671-c69f0faeeb30",
   "metadata": {},
   "outputs": [],
   "source": []
  }
 ],
 "metadata": {
  "kernelspec": {
   "display_name": "Python 3 (ipykernel)",
   "language": "python",
   "name": "python3"
  },
  "language_info": {
   "codemirror_mode": {
    "name": "ipython",
    "version": 3
   },
   "file_extension": ".py",
   "mimetype": "text/x-python",
   "name": "python",
   "nbconvert_exporter": "python",
   "pygments_lexer": "ipython3",
   "version": "3.12.4"
  },
  "panel-cell-order": [
   "2f3f2017-2f81-416c-adf1-25e4b353d285"
  ]
 },
 "nbformat": 4,
 "nbformat_minor": 5
}
